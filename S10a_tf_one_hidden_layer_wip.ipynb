{
 "cells": [
  {
   "cell_type": "code",
   "execution_count": 1,
   "metadata": {},
   "outputs": [],
   "source": [
    "#!/usr/bin/env python\n",
    "# -*- coding: utf-8 -*-"
   ]
  },
  {
   "cell_type": "markdown",
   "metadata": {},
   "source": [
    "# Introduction to AI and OpenVino\n",
    "## Session 10a:\n",
    "\n",
    "\n",
    "## Working with Tensorflow \n",
    "- One hidden layer\n",
    "- Make_moon\n",
    "\n",
    "</p><img src='../../prasami_images/prasami_color_tutorials_small.png' width='400' alt=\"By Pramod Sharma : pramod.sharma@prasami.com\" align=\"left\"/>"
   ]
  },
  {
   "cell_type": "code",
   "execution_count": 2,
   "metadata": {},
   "outputs": [
    {
     "name": "stderr",
     "output_type": "stream",
     "text": [
      "2024-06-14 09:22:19.673103: E external/local_xla/xla/stream_executor/cuda/cuda_dnn.cc:9261] Unable to register cuDNN factory: Attempting to register factory for plugin cuDNN when one has already been registered\n",
      "2024-06-14 09:22:19.673253: E external/local_xla/xla/stream_executor/cuda/cuda_fft.cc:607] Unable to register cuFFT factory: Attempting to register factory for plugin cuFFT when one has already been registered\n",
      "2024-06-14 09:22:19.702194: E external/local_xla/xla/stream_executor/cuda/cuda_blas.cc:1515] Unable to register cuBLAS factory: Attempting to register factory for plugin cuBLAS when one has already been registered\n",
      "2024-06-14 09:22:19.771250: I tensorflow/core/platform/cpu_feature_guard.cc:182] This TensorFlow binary is optimized to use available CPU instructions in performance-critical operations.\n",
      "To enable the following instructions: AVX2 FMA, in other operations, rebuild TensorFlow with the appropriate compiler flags.\n",
      "2024-06-14 09:22:21.442220: W tensorflow/compiler/tf2tensorrt/utils/py_utils.cc:38] TF-TRT Warning: Could not find TensorRT\n"
     ]
    }
   ],
   "source": [
    "# Lets import some libraries\n",
    "import os\n",
    "\n",
    "import numpy as np\n",
    "\n",
    "import pandas as pd\n",
    "\n",
    "import matplotlib.pyplot as plt\n",
    "\n",
    "from sklearn import datasets\n",
    "\n",
    "from sklearn.model_selection import train_test_split\n",
    "\n",
    "from sklearn.metrics import accuracy_score, confusion_matrix, classification_report, ConfusionMatrixDisplay\n",
    "\n",
    "from sklearn.preprocessing import StandardScaler\n",
    "\n",
    "import tensorflow as tf\n",
    "\n",
    "%matplotlib inline"
   ]
  },
  {
   "cell_type": "code",
   "execution_count": 3,
   "metadata": {},
   "outputs": [],
   "source": [
    "# Some basic parameters\n",
    "\n",
    "inpDir = '../../input' # location where input data is stored\n",
    "outDir = '../output' # location to store outputs\n",
    "modelDir = '../models'\n",
    "subDir = 'make_moon'\n",
    "\n",
    "RANDOM_STATE = 24 # for initialization ----- REMEMBER: to remove at the time of promotion to production\n",
    "\n",
    "np.random.seed(RANDOM_STATE) # Set Random Seed for reproducible  results\n",
    "tf.random.set_seed(RANDOM_STATE) # setting for Tensorflow as well\n",
    "\n",
    "\n",
    "EPOCHS = 100 # number of epochs\n",
    "ALPHA = 0.01 # learning rate\n",
    "\n",
    "BATCH_SIZE = 256 # other sizes leave last batch partial\n",
    "NUM_SAMPLE = 1280\n",
    "NOISE = 0.2\n",
    "TEST_SIZE = 0.2\n",
    "\n",
    "# Set parameters for decoration of plots\n",
    "params = {'legend.fontsize' : 'large',\n",
    "          'figure.figsize'  : (15,15),\n",
    "          'axes.labelsize'  : 'x-large',\n",
    "          'axes.titlesize'  :'x-large',\n",
    "          'xtick.labelsize' :'large',\n",
    "          'ytick.labelsize' :'large',\n",
    "         }\n",
    "\n",
    "CMAP = plt.cm.brg\n",
    "\n",
    "plt.rcParams.update(params) # update rcParams"
   ]
  },
  {
   "cell_type": "markdown",
   "metadata": {},
   "source": [
    "### Settings so that Tensorflow can not Hog all the GPU memory"
   ]
  },
  {
   "cell_type": "code",
   "execution_count": 4,
   "metadata": {},
   "outputs": [
    {
     "name": "stderr",
     "output_type": "stream",
     "text": [
      "2024-06-14 09:22:24.360620: I external/local_xla/xla/stream_executor/cuda/cuda_executor.cc:901] successful NUMA node read from SysFS had negative value (-1), but there must be at least one NUMA node, so returning NUMA node zero. See more at https://github.com/torvalds/linux/blob/v6.0/Documentation/ABI/testing/sysfs-bus-pci#L344-L355\n",
      "2024-06-14 09:22:24.506840: I external/local_xla/xla/stream_executor/cuda/cuda_executor.cc:901] successful NUMA node read from SysFS had negative value (-1), but there must be at least one NUMA node, so returning NUMA node zero. See more at https://github.com/torvalds/linux/blob/v6.0/Documentation/ABI/testing/sysfs-bus-pci#L344-L355\n",
      "2024-06-14 09:22:24.507367: I external/local_xla/xla/stream_executor/cuda/cuda_executor.cc:901] successful NUMA node read from SysFS had negative value (-1), but there must be at least one NUMA node, so returning NUMA node zero. See more at https://github.com/torvalds/linux/blob/v6.0/Documentation/ABI/testing/sysfs-bus-pci#L344-L355\n"
     ]
    }
   ],
   "source": [
    "physical_devices = tf.config.list_physical_devices('GPU') \n",
    "\n",
    "if len(physical_devices) > 0:\n",
    "    tf.config.experimental.set_memory_growth(physical_devices[0], True)"
   ]
  },
  {
   "cell_type": "markdown",
   "metadata": {},
   "source": [
    "## Load make_moon"
   ]
  },
  {
   "cell_type": "code",
   "execution_count": 5,
   "metadata": {},
   "outputs": [
    {
     "data": {
      "text/plain": [
       "((1280, 2), (1280,))"
      ]
     },
     "execution_count": 5,
     "metadata": {},
     "output_type": "execute_result"
    }
   ],
   "source": [
    "X, y = datasets.make_moons(n_samples=NUM_SAMPLE, noise=NOISE, random_state=RANDOM_STATE)\n",
    "X.shape, y.shape"
   ]
  },
  {
   "cell_type": "code",
   "execution_count": 6,
   "metadata": {},
   "outputs": [
    {
     "name": "stdout",
     "output_type": "stream",
     "text": [
      "(1024, 2) (1024,) (256, 2) (256,)\n"
     ]
    }
   ],
   "source": [
    "#  Split the data in training and test sets to measure performance of the model.\n",
    "X_train, X_test, y_train, y_test = train_test_split(X, y, \n",
    "                                                    test_size=TEST_SIZE,\n",
    "                                                    stratify=y,\n",
    "                                                    random_state=RANDOM_STATE )\n",
    "\n",
    "print (X_train.shape, y_train.shape, X_test.shape, y_test.shape)"
   ]
  },
  {
   "cell_type": "code",
   "execution_count": 7,
   "metadata": {},
   "outputs": [],
   "source": [
    "sc = StandardScaler()\n",
    "\n",
    "X_train = sc.fit_transform(X_train)\n",
    "\n",
    "X_test = sc.transform(X_test)"
   ]
  },
  {
   "cell_type": "code",
   "execution_count": 8,
   "metadata": {},
   "outputs": [
    {
     "data": {
      "text/plain": [
       "(1024, 2)"
      ]
     },
     "execution_count": 8,
     "metadata": {},
     "output_type": "execute_result"
    }
   ],
   "source": [
    "X_train.shape"
   ]
  },
  {
   "cell_type": "markdown",
   "metadata": {},
   "source": [
    "## Prepare model\n",
    "\n",
    "Build the `tf.keras.Sequential` model by stacking layers from `tf.keras.layers.Dense`. Activations can be given as string or from `tf.keras.activations.tanh` "
   ]
  },
  {
   "cell_type": "code",
   "execution_count": 9,
   "metadata": {},
   "outputs": [
    {
     "name": "stderr",
     "output_type": "stream",
     "text": [
      "2024-06-14 09:22:24.616577: I external/local_xla/xla/stream_executor/cuda/cuda_executor.cc:901] successful NUMA node read from SysFS had negative value (-1), but there must be at least one NUMA node, so returning NUMA node zero. See more at https://github.com/torvalds/linux/blob/v6.0/Documentation/ABI/testing/sysfs-bus-pci#L344-L355\n",
      "2024-06-14 09:22:24.616932: I external/local_xla/xla/stream_executor/cuda/cuda_executor.cc:901] successful NUMA node read from SysFS had negative value (-1), but there must be at least one NUMA node, so returning NUMA node zero. See more at https://github.com/torvalds/linux/blob/v6.0/Documentation/ABI/testing/sysfs-bus-pci#L344-L355\n",
      "2024-06-14 09:22:24.617195: I external/local_xla/xla/stream_executor/cuda/cuda_executor.cc:901] successful NUMA node read from SysFS had negative value (-1), but there must be at least one NUMA node, so returning NUMA node zero. See more at https://github.com/torvalds/linux/blob/v6.0/Documentation/ABI/testing/sysfs-bus-pci#L344-L355\n",
      "2024-06-14 09:22:24.710065: I external/local_xla/xla/stream_executor/cuda/cuda_executor.cc:901] successful NUMA node read from SysFS had negative value (-1), but there must be at least one NUMA node, so returning NUMA node zero. See more at https://github.com/torvalds/linux/blob/v6.0/Documentation/ABI/testing/sysfs-bus-pci#L344-L355\n",
      "2024-06-14 09:22:24.710465: I external/local_xla/xla/stream_executor/cuda/cuda_executor.cc:901] successful NUMA node read from SysFS had negative value (-1), but there must be at least one NUMA node, so returning NUMA node zero. See more at https://github.com/torvalds/linux/blob/v6.0/Documentation/ABI/testing/sysfs-bus-pci#L344-L355\n",
      "2024-06-14 09:22:24.710817: I external/local_xla/xla/stream_executor/cuda/cuda_executor.cc:901] successful NUMA node read from SysFS had negative value (-1), but there must be at least one NUMA node, so returning NUMA node zero. See more at https://github.com/torvalds/linux/blob/v6.0/Documentation/ABI/testing/sysfs-bus-pci#L344-L355\n",
      "2024-06-14 09:22:24.711079: I tensorflow/core/common_runtime/gpu/gpu_device.cc:1929] Created device /job:localhost/replica:0/task:0/device:GPU:0 with 4280 MB memory:  -> device: 0, name: NVIDIA GeForce RTX 3060 Laptop GPU, pci bus id: 0000:01:00.0, compute capability: 8.6\n"
     ]
    }
   ],
   "source": [
    "# Callig class Sequential and pass all layers as a list\n",
    "\n",
    "model = tf.keras.Sequential([\n",
    "\n",
    "    tf.keras.layers.Dense(4, activation='tanh'), # alternatively activation = tf.keras.activations.tanh\n",
    "\n",
    "  \n",
    "    tf.keras.layers.Dense(2) # notice absence of softmax function\n",
    "\n",
    "])"
   ]
  },
  {
   "cell_type": "markdown",
   "metadata": {},
   "source": [
    "## Reference\n",
    "<p style=\"font-family: Arial; font-size:1.2em;\">\n",
    "Details of <a href = \"https://www.tensorflow.org/api_docs/python/tf/keras/Sequential\">Sequential Model</a>. Sequential provides training and predict features on this model.\n",
    "</p>"
   ]
  },
  {
   "cell_type": "markdown",
   "metadata": {},
   "source": [
    "### Functional API\n",
    "\n",
    "<p style=\"font-family: Arial; font-size:1.2em;\">You can also instantiate a Model with the <strong>\"Functional API\"</strong>, where you start from Input, you chain layer calls to specify the model's forward pass, and finally you create your model from inputs and outputs:\n",
    "\n",
    ">import tensorflow as tf\n",
    "\n",
    ">inputs = tf.keras.Input(shape=(2,))\n",
    "    \n",
    ">x = tf.keras.layers.Dense(4, activation=tf.nn.relu)(inputs)\n",
    "\n",
    ">outputs = tf.keras.layers.Dense(2, activation=tf.nn.softmax)(x)\n",
    "\n",
    ">model = tf.keras.Model(inputs=inputs, outputs=outputs)\n",
    "\n",
    "    \n",
    "<p style=\"font-family: Arial; font-size:1.2em;\">You can also extend the model class, if love to live by sword!!\n",
    "</p>"
   ]
  },
  {
   "cell_type": "markdown",
   "metadata": {},
   "source": [
    "<p style=\"font-family: Arial; font-size:1.2em;\">\n",
    "    For each example the model returns a vector of \"logits\" or \"log-odds\" scores, one for each class.\n",
    "</p>"
   ]
  },
  {
   "cell_type": "code",
   "execution_count": 10,
   "metadata": {},
   "outputs": [
    {
     "data": {
      "text/plain": [
       "(1, 2)"
      ]
     },
     "execution_count": 10,
     "metadata": {},
     "output_type": "execute_result"
    }
   ],
   "source": [
    "X_train[:1].shape"
   ]
  },
  {
   "cell_type": "code",
   "execution_count": 11,
   "metadata": {},
   "outputs": [
    {
     "data": {
      "text/plain": [
       "array([[ 0.95190144, -0.31157964]], dtype=float32)"
      ]
     },
     "execution_count": 11,
     "metadata": {},
     "output_type": "execute_result"
    }
   ],
   "source": [
    "predictions = model(X_train[:1]).numpy()\n",
    "predictions"
   ]
  },
  {
   "cell_type": "code",
   "execution_count": 12,
   "metadata": {},
   "outputs": [
    {
     "data": {
      "text/plain": [
       "0.6403218"
      ]
     },
     "execution_count": 12,
     "metadata": {},
     "output_type": "execute_result"
    }
   ],
   "source": [
    "predictions.sum()"
   ]
  },
  {
   "cell_type": "markdown",
   "metadata": {},
   "source": [
    "The `tf.nn.softmax` function converts these logits to \"probabilities\" for each class: "
   ]
  },
  {
   "cell_type": "code",
   "execution_count": 13,
   "metadata": {},
   "outputs": [
    {
     "data": {
      "text/plain": [
       "array([[0.77962476, 0.2203752 ]], dtype=float32)"
      ]
     },
     "execution_count": 13,
     "metadata": {},
     "output_type": "execute_result"
    }
   ],
   "source": [
    "tf.nn.softmax(predictions).numpy()"
   ]
  },
  {
   "cell_type": "code",
   "execution_count": 14,
   "metadata": {},
   "outputs": [
    {
     "data": {
      "text/plain": [
       "0.99999994"
      ]
     },
     "execution_count": 14,
     "metadata": {},
     "output_type": "execute_result"
    }
   ],
   "source": [
    "tf.nn.softmax(predictions).numpy().sum()"
   ]
  },
  {
   "cell_type": "code",
   "execution_count": 15,
   "metadata": {},
   "outputs": [
    {
     "name": "stdout",
     "output_type": "stream",
     "text": [
      "Model: \"sequential\"\n",
      "_________________________________________________________________\n",
      " Layer (type)                Output Shape              Param #   \n",
      "=================================================================\n",
      " dense (Dense)               (1, 4)                    12        \n",
      "                                                                 \n",
      " dense_1 (Dense)             (1, 2)                    10        \n",
      "                                                                 \n",
      "=================================================================\n",
      "Total params: 22 (88.00 Byte)\n",
      "Trainable params: 22 (88.00 Byte)\n",
      "Non-trainable params: 0 (0.00 Byte)\n",
      "_________________________________________________________________\n"
     ]
    }
   ],
   "source": [
    "'''\n",
    "Number of parameters:\n",
    "    layer 1 : 2*4 +4 = 12 \n",
    "    layer 2 : 4*4 + 2 = 10\n",
    "We are not locking any layer hence all parameter are trainable    \n",
    "'''\n",
    "\n",
    "model.summary()"
   ]
  },
  {
   "cell_type": "markdown",
   "metadata": {},
   "source": [
    "## Game Changer\n",
    "\n",
    "`Softmax` function is prone to two issues: overflow and underflow.\n",
    "\n",
    "- <b>Overflow</b> occurs when very large numbers are being fed.\n",
    "- <b>Underflow</b> occurs when very small numbers (near zero) are being fed.\n",
    "\n",
    "There are work arounds too, but, TF has its own approach.<br>\n",
    "    \n",
    "Intuition being that every system (32 / 64 bit precision) has limits in terms of largest or smallest value it can accurately process.\n",
    "\n",
    "It also leads to the vanishing gradient in exponential functions. As you go higher/lower it  will overflow and the gradient will be `zero` irrespective of actually it being a `non-zero`.\n",
    "\n",
    "## Lose Function\n",
    "\n",
    "Our loss function is crossentropy as there are two or more label classes. The labels are provided using one-hot representation. We will use CategoricalCrossentropy loss. \n",
    "    \n",
    ">y_true = [ 0, 2 ] <b>Sparse Representation</b><br>\n",
    ">y_true = [ [1      0    0], [ 0    0   1 ] <b>Dense Representation</b><br>\n",
    ">y_pred = [ [0.05, 0.95, 0], [0.1, 0.1, 0.8] ]\n",
    "\n",
    "\n",
    "In case, you have not one-hot-encoded use `losses.SparseCategoricalCrossentropy`. It takes a vector of logits and a `True` index and returns a scalar loss for each example."
   ]
  },
  {
   "cell_type": "code",
   "execution_count": 16,
   "metadata": {},
   "outputs": [
    {
     "data": {
      "text/plain": [
       "1.7976931348623157e+308"
      ]
     },
     "execution_count": 16,
     "metadata": {},
     "output_type": "execute_result"
    }
   ],
   "source": [
    "import sys\n",
    "sys.float_info.max"
   ]
  },
  {
   "cell_type": "code",
   "execution_count": 17,
   "metadata": {},
   "outputs": [
    {
     "data": {
      "text/plain": [
       "2.2250738585072014e-308"
      ]
     },
     "execution_count": 17,
     "metadata": {},
     "output_type": "execute_result"
    }
   ],
   "source": [
    "sys.float_info.min"
   ]
  },
  {
   "cell_type": "code",
   "execution_count": 18,
   "metadata": {},
   "outputs": [
    {
     "data": {
      "text/plain": [
       "709.782712893384"
      ]
     },
     "execution_count": 18,
     "metadata": {},
     "output_type": "execute_result"
    }
   ],
   "source": [
    "np.log(sys.float_info.max)"
   ]
  },
  {
   "cell_type": "code",
   "execution_count": 19,
   "metadata": {},
   "outputs": [],
   "source": [
    "loss_fn = tf.keras.losses.SparseCategoricalCrossentropy ( from_logits = True)"
   ]
  },
  {
   "cell_type": "code",
   "execution_count": 20,
   "metadata": {},
   "outputs": [
    {
     "data": {
      "text/plain": [
       "array([0])"
      ]
     },
     "execution_count": 20,
     "metadata": {},
     "output_type": "execute_result"
    }
   ],
   "source": [
    "y_train[:1]"
   ]
  },
  {
   "cell_type": "code",
   "execution_count": 21,
   "metadata": {},
   "outputs": [
    {
     "data": {
      "text/plain": [
       "0.24894255"
      ]
     },
     "execution_count": 21,
     "metadata": {},
     "output_type": "execute_result"
    }
   ],
   "source": [
    "loss_fn(y_train[:1], predictions).numpy()"
   ]
  },
  {
   "cell_type": "markdown",
   "metadata": {},
   "source": [
    "Using `model.compile`, specify the training configuration such as:\n",
    "- Loss function to minimize\n",
    "- Optimizer\n",
    "- List of metrics to monitor"
   ]
  },
  {
   "cell_type": "code",
   "execution_count": 22,
   "metadata": {},
   "outputs": [],
   "source": [
    "model.compile(optimizer='SGD',\n",
    "              loss=loss_fn,\n",
    "              metrics=['accuracy'])"
   ]
  },
  {
   "cell_type": "markdown",
   "metadata": {},
   "source": [
    "Call `fit()`, which will train the model by slicing the data into `batches` of size `batch_size`, and repeatedly iterating over the entire dataset for a given number of `epochs`. Pass some validation for monitoring validation loss and metrics at the end of each epoch."
   ]
  },
  {
   "cell_type": "code",
   "execution_count": 23,
   "metadata": {
    "scrolled": true
   },
   "outputs": [
    {
     "name": "stdout",
     "output_type": "stream",
     "text": [
      "Epoch 1/100\n"
     ]
    },
    {
     "name": "stderr",
     "output_type": "stream",
     "text": [
      "2024-06-14 09:22:25.611922: I external/local_xla/xla/service/service.cc:168] XLA service 0x7c48de0be2c0 initialized for platform CUDA (this does not guarantee that XLA will be used). Devices:\n",
      "2024-06-14 09:22:25.611969: I external/local_xla/xla/service/service.cc:176]   StreamExecutor device (0): NVIDIA GeForce RTX 3060 Laptop GPU, Compute Capability 8.6\n",
      "2024-06-14 09:22:25.639603: I external/local_xla/xla/stream_executor/cuda/cuda_dnn.cc:454] Loaded cuDNN version 8902\n"
     ]
    },
    {
     "name": "stdout",
     "output_type": "stream",
     "text": [
      "1/4 [======>.......................] - ETA: 2s - loss: 0.5179 - accuracy: 0.6992"
     ]
    },
    {
     "name": "stderr",
     "output_type": "stream",
     "text": [
      "WARNING: All log messages before absl::InitializeLog() is called are written to STDERR\n",
      "I0000 00:00:1718337145.819046    5242 device_compiler.h:186] Compiled cluster using XLA!  This line is logged at most once for the lifetime of the process.\n"
     ]
    },
    {
     "name": "stdout",
     "output_type": "stream",
     "text": [
      "4/4 [==============================] - 1s 60ms/step - loss: 0.4898 - accuracy: 0.7354 - val_loss: 0.4528 - val_accuracy: 0.7930\n",
      "Epoch 2/100\n",
      "4/4 [==============================] - 0s 11ms/step - loss: 0.4859 - accuracy: 0.7393 - val_loss: 0.4483 - val_accuracy: 0.7969\n",
      "Epoch 3/100\n",
      "4/4 [==============================] - 0s 14ms/step - loss: 0.4820 - accuracy: 0.7461 - val_loss: 0.4439 - val_accuracy: 0.8047\n",
      "Epoch 4/100\n",
      "4/4 [==============================] - 0s 15ms/step - loss: 0.4783 - accuracy: 0.7500 - val_loss: 0.4396 - val_accuracy: 0.8047\n",
      "Epoch 5/100\n",
      "4/4 [==============================] - 0s 13ms/step - loss: 0.4747 - accuracy: 0.7520 - val_loss: 0.4354 - val_accuracy: 0.8047\n",
      "Epoch 6/100\n",
      "4/4 [==============================] - 0s 11ms/step - loss: 0.4711 - accuracy: 0.7559 - val_loss: 0.4314 - val_accuracy: 0.8047\n",
      "Epoch 7/100\n",
      "4/4 [==============================] - 0s 14ms/step - loss: 0.4677 - accuracy: 0.7598 - val_loss: 0.4274 - val_accuracy: 0.8125\n",
      "Epoch 8/100\n",
      "4/4 [==============================] - 0s 16ms/step - loss: 0.4644 - accuracy: 0.7637 - val_loss: 0.4236 - val_accuracy: 0.8125\n",
      "Epoch 9/100\n",
      "4/4 [==============================] - 0s 19ms/step - loss: 0.4612 - accuracy: 0.7676 - val_loss: 0.4199 - val_accuracy: 0.8125\n",
      "Epoch 10/100\n",
      "4/4 [==============================] - 0s 14ms/step - loss: 0.4580 - accuracy: 0.7686 - val_loss: 0.4163 - val_accuracy: 0.8164\n",
      "Epoch 11/100\n",
      "4/4 [==============================] - 0s 14ms/step - loss: 0.4550 - accuracy: 0.7744 - val_loss: 0.4127 - val_accuracy: 0.8164\n",
      "Epoch 12/100\n",
      "4/4 [==============================] - 0s 13ms/step - loss: 0.4520 - accuracy: 0.7783 - val_loss: 0.4093 - val_accuracy: 0.8164\n",
      "Epoch 13/100\n",
      "4/4 [==============================] - 0s 13ms/step - loss: 0.4492 - accuracy: 0.7812 - val_loss: 0.4060 - val_accuracy: 0.8164\n",
      "Epoch 14/100\n",
      "4/4 [==============================] - 0s 15ms/step - loss: 0.4464 - accuracy: 0.7842 - val_loss: 0.4028 - val_accuracy: 0.8164\n",
      "Epoch 15/100\n",
      "4/4 [==============================] - 0s 15ms/step - loss: 0.4436 - accuracy: 0.7881 - val_loss: 0.3996 - val_accuracy: 0.8203\n",
      "Epoch 16/100\n",
      "4/4 [==============================] - 0s 12ms/step - loss: 0.4410 - accuracy: 0.7900 - val_loss: 0.3966 - val_accuracy: 0.8203\n",
      "Epoch 17/100\n",
      "4/4 [==============================] - 0s 12ms/step - loss: 0.4385 - accuracy: 0.7920 - val_loss: 0.3936 - val_accuracy: 0.8203\n",
      "Epoch 18/100\n",
      "4/4 [==============================] - 0s 14ms/step - loss: 0.4359 - accuracy: 0.7949 - val_loss: 0.3907 - val_accuracy: 0.8203\n",
      "Epoch 19/100\n",
      "4/4 [==============================] - 0s 17ms/step - loss: 0.4335 - accuracy: 0.7979 - val_loss: 0.3878 - val_accuracy: 0.8203\n",
      "Epoch 20/100\n",
      "4/4 [==============================] - 0s 12ms/step - loss: 0.4311 - accuracy: 0.7979 - val_loss: 0.3851 - val_accuracy: 0.8203\n",
      "Epoch 21/100\n",
      "4/4 [==============================] - 0s 11ms/step - loss: 0.4288 - accuracy: 0.7988 - val_loss: 0.3824 - val_accuracy: 0.8203\n",
      "Epoch 22/100\n",
      "4/4 [==============================] - 0s 13ms/step - loss: 0.4266 - accuracy: 0.8018 - val_loss: 0.3798 - val_accuracy: 0.8242\n",
      "Epoch 23/100\n",
      "4/4 [==============================] - 0s 10ms/step - loss: 0.4244 - accuracy: 0.8018 - val_loss: 0.3772 - val_accuracy: 0.8242\n",
      "Epoch 24/100\n",
      "4/4 [==============================] - 0s 14ms/step - loss: 0.4222 - accuracy: 0.8027 - val_loss: 0.3747 - val_accuracy: 0.8281\n",
      "Epoch 25/100\n",
      "4/4 [==============================] - 0s 14ms/step - loss: 0.4202 - accuracy: 0.8037 - val_loss: 0.3723 - val_accuracy: 0.8281\n",
      "Epoch 26/100\n",
      "4/4 [==============================] - 0s 12ms/step - loss: 0.4182 - accuracy: 0.8066 - val_loss: 0.3700 - val_accuracy: 0.8320\n",
      "Epoch 27/100\n",
      "4/4 [==============================] - 0s 12ms/step - loss: 0.4162 - accuracy: 0.8076 - val_loss: 0.3677 - val_accuracy: 0.8320\n",
      "Epoch 28/100\n",
      "4/4 [==============================] - 0s 12ms/step - loss: 0.4143 - accuracy: 0.8076 - val_loss: 0.3654 - val_accuracy: 0.8359\n",
      "Epoch 29/100\n",
      "4/4 [==============================] - 0s 12ms/step - loss: 0.4124 - accuracy: 0.8086 - val_loss: 0.3632 - val_accuracy: 0.8359\n",
      "Epoch 30/100\n",
      "4/4 [==============================] - 0s 10ms/step - loss: 0.4106 - accuracy: 0.8115 - val_loss: 0.3611 - val_accuracy: 0.8398\n",
      "Epoch 31/100\n",
      "4/4 [==============================] - 0s 15ms/step - loss: 0.4088 - accuracy: 0.8115 - val_loss: 0.3590 - val_accuracy: 0.8398\n",
      "Epoch 32/100\n",
      "4/4 [==============================] - 0s 12ms/step - loss: 0.4070 - accuracy: 0.8115 - val_loss: 0.3569 - val_accuracy: 0.8398\n",
      "Epoch 33/100\n",
      "4/4 [==============================] - 0s 11ms/step - loss: 0.4053 - accuracy: 0.8125 - val_loss: 0.3549 - val_accuracy: 0.8398\n",
      "Epoch 34/100\n",
      "4/4 [==============================] - 0s 11ms/step - loss: 0.4037 - accuracy: 0.8135 - val_loss: 0.3530 - val_accuracy: 0.8438\n",
      "Epoch 35/100\n",
      "4/4 [==============================] - 0s 14ms/step - loss: 0.4021 - accuracy: 0.8145 - val_loss: 0.3511 - val_accuracy: 0.8555\n",
      "Epoch 36/100\n",
      "4/4 [==============================] - 0s 12ms/step - loss: 0.4005 - accuracy: 0.8145 - val_loss: 0.3492 - val_accuracy: 0.8555\n",
      "Epoch 37/100\n",
      "4/4 [==============================] - 0s 11ms/step - loss: 0.3989 - accuracy: 0.8154 - val_loss: 0.3474 - val_accuracy: 0.8555\n",
      "Epoch 38/100\n",
      "4/4 [==============================] - 0s 14ms/step - loss: 0.3974 - accuracy: 0.8184 - val_loss: 0.3456 - val_accuracy: 0.8555\n",
      "Epoch 39/100\n",
      "4/4 [==============================] - 0s 12ms/step - loss: 0.3960 - accuracy: 0.8193 - val_loss: 0.3439 - val_accuracy: 0.8594\n",
      "Epoch 40/100\n",
      "4/4 [==============================] - 0s 10ms/step - loss: 0.3945 - accuracy: 0.8203 - val_loss: 0.3422 - val_accuracy: 0.8633\n",
      "Epoch 41/100\n",
      "4/4 [==============================] - 0s 14ms/step - loss: 0.3931 - accuracy: 0.8213 - val_loss: 0.3405 - val_accuracy: 0.8633\n",
      "Epoch 42/100\n",
      "4/4 [==============================] - 0s 11ms/step - loss: 0.3917 - accuracy: 0.8223 - val_loss: 0.3389 - val_accuracy: 0.8633\n",
      "Epoch 43/100\n",
      "4/4 [==============================] - 0s 12ms/step - loss: 0.3904 - accuracy: 0.8223 - val_loss: 0.3373 - val_accuracy: 0.8633\n",
      "Epoch 44/100\n",
      "4/4 [==============================] - 0s 13ms/step - loss: 0.3891 - accuracy: 0.8242 - val_loss: 0.3357 - val_accuracy: 0.8633\n",
      "Epoch 45/100\n",
      "4/4 [==============================] - 0s 12ms/step - loss: 0.3878 - accuracy: 0.8242 - val_loss: 0.3342 - val_accuracy: 0.8633\n",
      "Epoch 46/100\n",
      "4/4 [==============================] - 0s 10ms/step - loss: 0.3866 - accuracy: 0.8252 - val_loss: 0.3327 - val_accuracy: 0.8633\n",
      "Epoch 47/100\n",
      "4/4 [==============================] - 0s 13ms/step - loss: 0.3853 - accuracy: 0.8252 - val_loss: 0.3313 - val_accuracy: 0.8633\n",
      "Epoch 48/100\n",
      "4/4 [==============================] - 0s 12ms/step - loss: 0.3841 - accuracy: 0.8262 - val_loss: 0.3298 - val_accuracy: 0.8633\n",
      "Epoch 49/100\n",
      "4/4 [==============================] - 0s 11ms/step - loss: 0.3829 - accuracy: 0.8271 - val_loss: 0.3284 - val_accuracy: 0.8633\n",
      "Epoch 50/100\n",
      "4/4 [==============================] - 0s 12ms/step - loss: 0.3818 - accuracy: 0.8281 - val_loss: 0.3271 - val_accuracy: 0.8633\n",
      "Epoch 51/100\n",
      "4/4 [==============================] - 0s 15ms/step - loss: 0.3807 - accuracy: 0.8281 - val_loss: 0.3257 - val_accuracy: 0.8672\n",
      "Epoch 52/100\n",
      "4/4 [==============================] - 0s 13ms/step - loss: 0.3796 - accuracy: 0.8281 - val_loss: 0.3244 - val_accuracy: 0.8711\n",
      "Epoch 53/100\n",
      "4/4 [==============================] - 0s 11ms/step - loss: 0.3785 - accuracy: 0.8311 - val_loss: 0.3231 - val_accuracy: 0.8711\n",
      "Epoch 54/100\n",
      "4/4 [==============================] - 0s 12ms/step - loss: 0.3774 - accuracy: 0.8330 - val_loss: 0.3219 - val_accuracy: 0.8711\n",
      "Epoch 55/100\n",
      "4/4 [==============================] - 0s 14ms/step - loss: 0.3764 - accuracy: 0.8330 - val_loss: 0.3206 - val_accuracy: 0.8711\n",
      "Epoch 56/100\n",
      "4/4 [==============================] - 0s 15ms/step - loss: 0.3754 - accuracy: 0.8340 - val_loss: 0.3194 - val_accuracy: 0.8750\n",
      "Epoch 57/100\n",
      "4/4 [==============================] - 0s 10ms/step - loss: 0.3744 - accuracy: 0.8340 - val_loss: 0.3182 - val_accuracy: 0.8750\n",
      "Epoch 58/100\n",
      "4/4 [==============================] - 0s 12ms/step - loss: 0.3734 - accuracy: 0.8340 - val_loss: 0.3171 - val_accuracy: 0.8750\n",
      "Epoch 59/100\n",
      "4/4 [==============================] - 0s 13ms/step - loss: 0.3725 - accuracy: 0.8350 - val_loss: 0.3159 - val_accuracy: 0.8750\n",
      "Epoch 60/100\n",
      "4/4 [==============================] - 0s 11ms/step - loss: 0.3716 - accuracy: 0.8359 - val_loss: 0.3148 - val_accuracy: 0.8789\n",
      "Epoch 61/100\n",
      "4/4 [==============================] - 0s 13ms/step - loss: 0.3706 - accuracy: 0.8379 - val_loss: 0.3137 - val_accuracy: 0.8789\n",
      "Epoch 62/100\n",
      "4/4 [==============================] - 0s 13ms/step - loss: 0.3697 - accuracy: 0.8379 - val_loss: 0.3126 - val_accuracy: 0.8789\n",
      "Epoch 63/100\n",
      "4/4 [==============================] - 0s 15ms/step - loss: 0.3689 - accuracy: 0.8398 - val_loss: 0.3116 - val_accuracy: 0.8789\n",
      "Epoch 64/100\n",
      "4/4 [==============================] - 0s 11ms/step - loss: 0.3680 - accuracy: 0.8408 - val_loss: 0.3105 - val_accuracy: 0.8789\n",
      "Epoch 65/100\n",
      "4/4 [==============================] - 0s 17ms/step - loss: 0.3672 - accuracy: 0.8408 - val_loss: 0.3095 - val_accuracy: 0.8789\n",
      "Epoch 66/100\n",
      "4/4 [==============================] - 0s 14ms/step - loss: 0.3663 - accuracy: 0.8408 - val_loss: 0.3085 - val_accuracy: 0.8789\n",
      "Epoch 67/100\n",
      "4/4 [==============================] - 0s 11ms/step - loss: 0.3655 - accuracy: 0.8418 - val_loss: 0.3076 - val_accuracy: 0.8789\n",
      "Epoch 68/100\n",
      "4/4 [==============================] - 0s 12ms/step - loss: 0.3647 - accuracy: 0.8438 - val_loss: 0.3066 - val_accuracy: 0.8789\n",
      "Epoch 69/100\n",
      "4/4 [==============================] - 0s 14ms/step - loss: 0.3640 - accuracy: 0.8438 - val_loss: 0.3057 - val_accuracy: 0.8789\n",
      "Epoch 70/100\n",
      "4/4 [==============================] - 0s 12ms/step - loss: 0.3632 - accuracy: 0.8438 - val_loss: 0.3047 - val_accuracy: 0.8789\n",
      "Epoch 71/100\n",
      "4/4 [==============================] - 0s 11ms/step - loss: 0.3625 - accuracy: 0.8447 - val_loss: 0.3038 - val_accuracy: 0.8789\n",
      "Epoch 72/100\n",
      "4/4 [==============================] - 0s 14ms/step - loss: 0.3617 - accuracy: 0.8447 - val_loss: 0.3029 - val_accuracy: 0.8789\n",
      "Epoch 73/100\n",
      "4/4 [==============================] - 0s 19ms/step - loss: 0.3610 - accuracy: 0.8467 - val_loss: 0.3021 - val_accuracy: 0.8789\n",
      "Epoch 74/100\n",
      "4/4 [==============================] - 0s 12ms/step - loss: 0.3603 - accuracy: 0.8477 - val_loss: 0.3012 - val_accuracy: 0.8789\n",
      "Epoch 75/100\n",
      "4/4 [==============================] - 0s 11ms/step - loss: 0.3596 - accuracy: 0.8467 - val_loss: 0.3004 - val_accuracy: 0.8789\n",
      "Epoch 76/100\n",
      "4/4 [==============================] - 0s 13ms/step - loss: 0.3589 - accuracy: 0.8467 - val_loss: 0.2995 - val_accuracy: 0.8828\n",
      "Epoch 77/100\n",
      "4/4 [==============================] - 0s 13ms/step - loss: 0.3583 - accuracy: 0.8467 - val_loss: 0.2987 - val_accuracy: 0.8828\n",
      "Epoch 78/100\n",
      "4/4 [==============================] - 0s 13ms/step - loss: 0.3576 - accuracy: 0.8477 - val_loss: 0.2979 - val_accuracy: 0.8828\n",
      "Epoch 79/100\n",
      "4/4 [==============================] - 0s 17ms/step - loss: 0.3570 - accuracy: 0.8486 - val_loss: 0.2971 - val_accuracy: 0.8828\n",
      "Epoch 80/100\n",
      "4/4 [==============================] - 0s 15ms/step - loss: 0.3564 - accuracy: 0.8486 - val_loss: 0.2964 - val_accuracy: 0.8828\n",
      "Epoch 81/100\n",
      "4/4 [==============================] - 0s 14ms/step - loss: 0.3557 - accuracy: 0.8486 - val_loss: 0.2956 - val_accuracy: 0.8828\n",
      "Epoch 82/100\n",
      "4/4 [==============================] - 0s 11ms/step - loss: 0.3551 - accuracy: 0.8506 - val_loss: 0.2949 - val_accuracy: 0.8828\n",
      "Epoch 83/100\n",
      "4/4 [==============================] - 0s 14ms/step - loss: 0.3545 - accuracy: 0.8506 - val_loss: 0.2941 - val_accuracy: 0.8828\n",
      "Epoch 84/100\n",
      "4/4 [==============================] - 0s 12ms/step - loss: 0.3539 - accuracy: 0.8506 - val_loss: 0.2934 - val_accuracy: 0.8828\n",
      "Epoch 85/100\n",
      "4/4 [==============================] - 0s 10ms/step - loss: 0.3534 - accuracy: 0.8516 - val_loss: 0.2927 - val_accuracy: 0.8867\n",
      "Epoch 86/100\n",
      "4/4 [==============================] - 0s 14ms/step - loss: 0.3528 - accuracy: 0.8516 - val_loss: 0.2920 - val_accuracy: 0.8867\n",
      "Epoch 87/100\n",
      "4/4 [==============================] - 0s 12ms/step - loss: 0.3522 - accuracy: 0.8516 - val_loss: 0.2913 - val_accuracy: 0.8867\n",
      "Epoch 88/100\n",
      "4/4 [==============================] - 0s 11ms/step - loss: 0.3517 - accuracy: 0.8516 - val_loss: 0.2907 - val_accuracy: 0.8867\n",
      "Epoch 89/100\n",
      "4/4 [==============================] - 0s 12ms/step - loss: 0.3512 - accuracy: 0.8516 - val_loss: 0.2900 - val_accuracy: 0.8867\n",
      "Epoch 90/100\n",
      "4/4 [==============================] - 0s 13ms/step - loss: 0.3506 - accuracy: 0.8525 - val_loss: 0.2894 - val_accuracy: 0.8867\n",
      "Epoch 91/100\n",
      "4/4 [==============================] - 0s 10ms/step - loss: 0.3501 - accuracy: 0.8525 - val_loss: 0.2887 - val_accuracy: 0.8867\n",
      "Epoch 92/100\n",
      "4/4 [==============================] - 0s 14ms/step - loss: 0.3496 - accuracy: 0.8525 - val_loss: 0.2881 - val_accuracy: 0.8867\n",
      "Epoch 93/100\n",
      "4/4 [==============================] - 0s 11ms/step - loss: 0.3491 - accuracy: 0.8525 - val_loss: 0.2875 - val_accuracy: 0.8867\n",
      "Epoch 94/100\n",
      "4/4 [==============================] - 0s 11ms/step - loss: 0.3486 - accuracy: 0.8525 - val_loss: 0.2869 - val_accuracy: 0.8867\n",
      "Epoch 95/100\n",
      "4/4 [==============================] - 0s 16ms/step - loss: 0.3482 - accuracy: 0.8525 - val_loss: 0.2863 - val_accuracy: 0.8867\n",
      "Epoch 96/100\n",
      "4/4 [==============================] - 0s 12ms/step - loss: 0.3477 - accuracy: 0.8545 - val_loss: 0.2857 - val_accuracy: 0.8867\n",
      "Epoch 97/100\n",
      "4/4 [==============================] - 0s 13ms/step - loss: 0.3472 - accuracy: 0.8545 - val_loss: 0.2851 - val_accuracy: 0.8867\n",
      "Epoch 98/100\n",
      "4/4 [==============================] - 0s 15ms/step - loss: 0.3468 - accuracy: 0.8545 - val_loss: 0.2845 - val_accuracy: 0.8867\n",
      "Epoch 99/100\n",
      "4/4 [==============================] - 0s 14ms/step - loss: 0.3463 - accuracy: 0.8545 - val_loss: 0.2840 - val_accuracy: 0.8867\n",
      "Epoch 100/100\n",
      "4/4 [==============================] - 0s 12ms/step - loss: 0.3459 - accuracy: 0.8555 - val_loss: 0.2834 - val_accuracy: 0.8867\n"
     ]
    }
   ],
   "source": [
    "history = model.fit(X_train, y_train, \n",
    "                    validation_data=[X_test, y_test],\n",
    "                    batch_size=BATCH_SIZE,\n",
    "                    epochs=EPOCHS)"
   ]
  },
  {
   "cell_type": "markdown",
   "metadata": {},
   "source": [
    "In case we want to separately evaluate this model, we have `evaluate` function."
   ]
  },
  {
   "cell_type": "code",
   "execution_count": 24,
   "metadata": {},
   "outputs": [
    {
     "name": "stdout",
     "output_type": "stream",
     "text": [
      "8/8 - 0s - loss: 0.2834 - accuracy: 0.8867 - 127ms/epoch - 16ms/step\n"
     ]
    },
    {
     "data": {
      "text/plain": [
       "[0.28343576192855835, 0.88671875]"
      ]
     },
     "execution_count": 24,
     "metadata": {},
     "output_type": "execute_result"
    }
   ],
   "source": [
    "model.evaluate ( X_test,  y_test, verbose=2)"
   ]
  },
  {
   "cell_type": "code",
   "execution_count": 25,
   "metadata": {},
   "outputs": [
    {
     "data": {
      "text/html": [
       "<div>\n",
       "<style scoped>\n",
       "    .dataframe tbody tr th:only-of-type {\n",
       "        vertical-align: middle;\n",
       "    }\n",
       "\n",
       "    .dataframe tbody tr th {\n",
       "        vertical-align: top;\n",
       "    }\n",
       "\n",
       "    .dataframe thead th {\n",
       "        text-align: right;\n",
       "    }\n",
       "</style>\n",
       "<table border=\"1\" class=\"dataframe\">\n",
       "  <thead>\n",
       "    <tr style=\"text-align: right;\">\n",
       "      <th></th>\n",
       "      <th>loss</th>\n",
       "      <th>accuracy</th>\n",
       "      <th>val_loss</th>\n",
       "      <th>val_accuracy</th>\n",
       "    </tr>\n",
       "  </thead>\n",
       "  <tbody>\n",
       "    <tr>\n",
       "      <th>0</th>\n",
       "      <td>0.489843</td>\n",
       "      <td>0.735352</td>\n",
       "      <td>0.452846</td>\n",
       "      <td>0.792969</td>\n",
       "    </tr>\n",
       "    <tr>\n",
       "      <th>1</th>\n",
       "      <td>0.485866</td>\n",
       "      <td>0.739258</td>\n",
       "      <td>0.448290</td>\n",
       "      <td>0.796875</td>\n",
       "    </tr>\n",
       "    <tr>\n",
       "      <th>2</th>\n",
       "      <td>0.482012</td>\n",
       "      <td>0.746094</td>\n",
       "      <td>0.443868</td>\n",
       "      <td>0.804688</td>\n",
       "    </tr>\n",
       "    <tr>\n",
       "      <th>3</th>\n",
       "      <td>0.478282</td>\n",
       "      <td>0.750000</td>\n",
       "      <td>0.439574</td>\n",
       "      <td>0.804688</td>\n",
       "    </tr>\n",
       "    <tr>\n",
       "      <th>4</th>\n",
       "      <td>0.474685</td>\n",
       "      <td>0.751953</td>\n",
       "      <td>0.435403</td>\n",
       "      <td>0.804688</td>\n",
       "    </tr>\n",
       "  </tbody>\n",
       "</table>\n",
       "</div>"
      ],
      "text/plain": [
       "       loss  accuracy  val_loss  val_accuracy\n",
       "0  0.489843  0.735352  0.452846      0.792969\n",
       "1  0.485866  0.739258  0.448290      0.796875\n",
       "2  0.482012  0.746094  0.443868      0.804688\n",
       "3  0.478282  0.750000  0.439574      0.804688\n",
       "4  0.474685  0.751953  0.435403      0.804688"
      ]
     },
     "execution_count": 25,
     "metadata": {},
     "output_type": "execute_result"
    }
   ],
   "source": [
    "hist_df = pd.DataFrame(history.history)\n",
    "hist_df.head()"
   ]
  },
  {
   "cell_type": "code",
   "execution_count": 26,
   "metadata": {},
   "outputs": [
    {
     "data": {
      "image/png": "[encoded data removed]",
      "text/plain": [
       "<Figure size 1500x600 with 2 Axes>"
      ]
     },
     "metadata": {},
     "output_type": "display_data"
    }
   ],
   "source": [
    "fig, axes = plt.subplots(1,2 , figsize = (15,6))\n",
    "\n",
    "# properties  matplotlib.patch.Patch \n",
    "props = dict(boxstyle='round', facecolor='aqua', alpha=0.4)\n",
    "facecolor = 'cyan'\n",
    "fontsize=12\n",
    "\n",
    "# Get columns by index to eliminate any column naming error\n",
    "y1 = hist_df.columns[0]\n",
    "y2 = hist_df.columns[1]\n",
    "y3 = hist_df.columns[2]\n",
    "y4 = hist_df.columns[3]\n",
    "\n",
    "# Where was min loss\n",
    "best = hist_df[hist_df[y3] == hist_df[y3].min()]\n",
    "\n",
    "ax = axes[0]\n",
    "\n",
    "hist_df.plot(y = [y1,y3], ax = ax, colormap=CMAP)\n",
    "\n",
    "\n",
    "# little beautification\n",
    "txtFmt = \"Loss: \\n  train: {:6.4f}\\n   test: {:6.4f}\"\n",
    "txtstr = txtFmt.format(hist_df.iloc[-1][y1],\n",
    "                       hist_df.iloc[-1][y3]) #text to plot\n",
    "\n",
    "# place a text box in upper middle in axes coords\n",
    "ax.text(0.3, 0.95, txtstr, transform=ax.transAxes, fontsize=fontsize,\n",
    "        verticalalignment='top', bbox=props)\n",
    "\n",
    "# Mark arrow at lowest\n",
    "ax.annotate(f'Min: {best[y3].to_numpy()[0]:6.4f}', # text to print\n",
    "            xy=(best.index.to_numpy(), best[y3].to_numpy()[0]), # Arrow start\n",
    "            xytext=(best.index.to_numpy()-1, best[y3].to_numpy()[0]), # location of text \n",
    "            fontsize=fontsize, va='bottom', ha='right',bbox=props, # beautification of text\n",
    "            arrowprops=dict(facecolor=facecolor, shrink=0.05)) # arrow\n",
    "\n",
    "# Draw vertical line at best value\n",
    "ax.axvline(x = best.index.to_numpy(), color = 'green', linestyle='-.', lw = 3);\n",
    "\n",
    "ax.set_xlabel(\"Epochs\")\n",
    "ax.set_ylabel(y1.capitalize())\n",
    "ax.set_title('Errors')\n",
    "ax.grid();\n",
    "ax.legend(loc = 'upper left') # model legend to upper left\n",
    "\n",
    "ax = axes[1]\n",
    "\n",
    "hist_df.plot( y = [y2, y4], ax = ax, colormap=CMAP)\n",
    "\n",
    "# little beautification\n",
    "txtFmt = \"Accuracy: \\n  train: {:6.4f}\\n  test:  {:6.4f}\"\n",
    "txtstr = txtFmt.format(hist_df.iloc[-1][y2],\n",
    "                       hist_df.iloc[-1][y4]) #text to plot\n",
    "\n",
    "# place a text box in upper middle in axes coords\n",
    "ax.text(0.3, 0.2, txtstr, transform=ax.transAxes, fontsize=fontsize,\n",
    "        verticalalignment='top', bbox=props)\n",
    "\n",
    "# Mark arrow at lowest\n",
    "ax.annotate(f'Best: {best[y4].to_numpy()[0]:6.4f}', # text to print\n",
    "            xy=(best.index.to_numpy(), best[y4].to_numpy()[0]), # Arrow start\n",
    "            xytext=(best.index.to_numpy()-1, best[y4].to_numpy()[0]), # location of text \n",
    "            fontsize=fontsize, va='bottom', ha='right',bbox=props, # beautification of text\n",
    "            arrowprops=dict(facecolor=facecolor, shrink=0.05)) # arrow\n",
    "\n",
    "\n",
    "# Draw vertical line at best value\n",
    "ax.axvline(x = best.index.to_numpy(), color = 'green', linestyle='-.', lw = 3);\n",
    "\n",
    "ax.set_xlabel(\"Epochs\")\n",
    "ax.set_ylabel(y2.capitalize())\n",
    "ax.grid()\n",
    "ax.legend(loc = 'lower left')\n",
    "\n",
    "plt.tight_layout()"
   ]
  },
  {
   "cell_type": "markdown",
   "metadata": {},
   "source": [
    "## Predictions"
   ]
  },
  {
   "cell_type": "code",
   "execution_count": 27,
   "metadata": {},
   "outputs": [],
   "source": [
    "probability_model = tf.keras.Sequential([\n",
    "  model,\n",
    "  tf.keras.layers.Softmax()\n",
    "])"
   ]
  },
  {
   "cell_type": "code",
   "execution_count": 28,
   "metadata": {},
   "outputs": [
    {
     "data": {
      "text/plain": [
       "array([[0.8781633 , 0.12183671],\n",
       "       [0.9005862 , 0.09941385],\n",
       "       [0.10654373, 0.8934562 ],\n",
       "       ...,\n",
       "       [0.9188927 , 0.0811073 ],\n",
       "       [0.90598553, 0.09401443],\n",
       "       [0.890433  , 0.10956702]], dtype=float32)"
      ]
     },
     "execution_count": 28,
     "metadata": {},
     "output_type": "execute_result"
    }
   ],
   "source": [
    "y_pred = probability_model(X_train).numpy()\n",
    "y_pred"
   ]
  },
  {
   "cell_type": "code",
   "execution_count": 29,
   "metadata": {},
   "outputs": [
    {
     "name": "stdout",
     "output_type": "stream",
     "text": [
      "              precision    recall  f1-score   support\n",
      "\n",
      "           0       0.86      0.85      0.86       512\n",
      "           1       0.85      0.86      0.86       512\n",
      "\n",
      "    accuracy                           0.86      1024\n",
      "   macro avg       0.86      0.86      0.86      1024\n",
      "weighted avg       0.86      0.86      0.86      1024\n",
      "\n"
     ]
    }
   ],
   "source": [
    "print(classification_report(y_train, np.argmax(y_pred, axis = 1)))"
   ]
  },
  {
   "cell_type": "code",
   "execution_count": 30,
   "metadata": {},
   "outputs": [
    {
     "name": "stdout",
     "output_type": "stream",
     "text": [
      "Accuracy score on Test Data :0.88672\n"
     ]
    }
   ],
   "source": [
    "y_pred = probability_model(X_test).numpy()\n",
    "\n",
    "print('Accuracy score on Test Data :{:.5f}'.format(accuracy_score(y_test, \n",
    "                                                                  np.argmax(y_pred, axis = 1))))"
   ]
  },
  {
   "cell_type": "code",
   "execution_count": 31,
   "metadata": {},
   "outputs": [
    {
     "name": "stdout",
     "output_type": "stream",
     "text": [
      "              precision    recall  f1-score   support\n",
      "\n",
      "           0       0.86      0.92      0.89       128\n",
      "           1       0.92      0.85      0.88       128\n",
      "\n",
      "    accuracy                           0.89       256\n",
      "   macro avg       0.89      0.89      0.89       256\n",
      "weighted avg       0.89      0.89      0.89       256\n",
      "\n"
     ]
    }
   ],
   "source": [
    "print(classification_report(y_test, \n",
    "                            np.argmax(y_pred, axis = 1)))"
   ]
  },
  {
   "cell_type": "code",
   "execution_count": 32,
   "metadata": {},
   "outputs": [
    {
     "data": {
      "image/png": "[encoded data removed]",
      "text/plain": [
       "<Figure size 400x400 with 1 Axes>"
      ]
     },
     "metadata": {},
     "output_type": "display_data"
    }
   ],
   "source": [
    "cm  = confusion_matrix(y_test, np.argmax(y_pred, axis = 1))\n",
    "\n",
    "disp = ConfusionMatrixDisplay(confusion_matrix=cm,\n",
    "                              display_labels=[0,1])\n",
    "\n",
    "fig, ax = plt.subplots(figsize = (4,4))\n",
    "\n",
    "disp.plot(ax = ax, cmap = 'Blues', xticks_rotation = 'vertical', colorbar=False)\n",
    "\n",
    "plt.show();"
   ]
  },
  {
   "cell_type": "code",
   "execution_count": 33,
   "metadata": {},
   "outputs": [
    {
     "data": {
      "text/html": [
       "<div>\n",
       "<style scoped>\n",
       "    .dataframe tbody tr th:only-of-type {\n",
       "        vertical-align: middle;\n",
       "    }\n",
       "\n",
       "    .dataframe tbody tr th {\n",
       "        vertical-align: top;\n",
       "    }\n",
       "\n",
       "    .dataframe thead th {\n",
       "        text-align: right;\n",
       "    }\n",
       "</style>\n",
       "<table border=\"1\" class=\"dataframe\">\n",
       "  <thead>\n",
       "    <tr style=\"text-align: right;\">\n",
       "      <th></th>\n",
       "      <th>loss</th>\n",
       "      <th>accuracy</th>\n",
       "      <th>val_loss</th>\n",
       "      <th>val_accuracy</th>\n",
       "    </tr>\n",
       "  </thead>\n",
       "  <tbody>\n",
       "    <tr>\n",
       "      <th>99</th>\n",
       "      <td>0.345868</td>\n",
       "      <td>0.855469</td>\n",
       "      <td>0.283436</td>\n",
       "      <td>0.886719</td>\n",
       "    </tr>\n",
       "  </tbody>\n",
       "</table>\n",
       "</div>"
      ],
      "text/plain": [
       "        loss  accuracy  val_loss  val_accuracy\n",
       "99  0.345868  0.855469  0.283436      0.886719"
      ]
     },
     "execution_count": 33,
     "metadata": {},
     "output_type": "execute_result"
    }
   ],
   "source": [
    "hist_df[hist_df['val_loss'] == hist_df['val_loss'].min()]"
   ]
  },
  {
   "cell_type": "code",
   "execution_count": null,
   "metadata": {},
   "outputs": [],
   "source": []
  }
 ],
 "metadata": {
  "kernelspec": {
   "display_name": "Python 3 (ipykernel)",
   "language": "python",
   "name": "python3"
  },
  "language_info": {
   "codemirror_mode": {
    "name": "ipython",
    "version": 3
   },
   "file_extension": ".py",
   "mimetype": "text/x-python",
   "name": "python",
   "nbconvert_exporter": "python",
   "pygments_lexer": "ipython3",
   "version": "3.10.12"
  }
 },
 "nbformat": 4,
 "nbformat_minor": 4
}
