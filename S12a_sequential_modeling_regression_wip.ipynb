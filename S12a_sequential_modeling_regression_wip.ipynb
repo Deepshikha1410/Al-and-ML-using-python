{
 "cells": [
  {
   "cell_type": "code",
   "execution_count": null,
   "metadata": {},
   "outputs": [],
   "source": [
    "#!/usr/bin/env python\n",
    "# -*- coding: utf-8 -*-"
   ]
  },
  {
   "cell_type": "markdown",
   "metadata": {},
   "source": [
    "# Deep Neural Networks \n",
    "## Session 12a\n",
    "\n",
    "### Using artificial data\n",
    "\n",
    "## Sequential Modeling Regression\n",
    "<img src='../../prasami_images/prasami_color_tutorials_small.png' style = 'width:400px;' alt=\"By Pramod Sharma : pramod.sharma@prasami.com\" align=\"left\"/>"
   ]
  },
  {
   "cell_type": "code",
   "execution_count": null,
   "metadata": {},
   "outputs": [],
   "source": [
    "###-----------------\n",
    "### Import Libraries\n",
    "###-----------------\n",
    "\n",
    "import os\n",
    "import numpy as np\n",
    "import pandas as pd\n",
    "\n",
    "import matplotlib.pyplot as plt\n",
    "from sklearn.model_selection import train_test_split\n",
    "from sklearn.metrics import mean_squared_error\n",
    "\n",
    "import tensorflow as tf"
   ]
  },
  {
   "cell_type": "code",
   "execution_count": null,
   "metadata": {},
   "outputs": [],
   "source": [
    "###----------------------\n",
    "### Some basic parameters\n",
    "###----------------------\n",
    "\n",
    "inpDir = '../../input' # location where input data is stored\n",
    "outDir = '../output' # location to store outputs\n",
    "\n",
    "RANDOM_STATE = 24 # for initialization ----- REMEMBER: to remove at the time of promotion to production\n",
    "np.random.seed(RANDOM_STATE) # Set Random Seed for reproducible  results\n",
    "tf.random.set_seed(RANDOM_STATE) # setting for Tensorflow as well\n",
    "\n",
    "EPOCHS = 100\n",
    "\n",
    "BATCH_SIZE = 64\n",
    "# Set parameters for decoration of plots\n",
    "params = {'legend.fontsize': 'medium',\n",
    "          'figure.figsize': (15, 6),\n",
    "          'axes.labelsize': 'large',\n",
    "          'axes.titlesize':'large',\n",
    "          'xtick.labelsize':'medium',\n",
    "          'ytick.labelsize':'medium'\n",
    "         }\n",
    "\n",
    "CMAP = plt.cm.coolwarm\n",
    "\n",
    "plt.rcParams.update(params) # update rcParams"
   ]
  },
  {
   "cell_type": "markdown",
   "metadata": {},
   "source": [
    "## Basic Hygiene"
   ]
  },
  {
   "cell_type": "code",
   "execution_count": null,
   "metadata": {},
   "outputs": [],
   "source": [
    "physical_devices = tf.config.list_physical_devices('GPU') \n",
    "\n",
    "if len(physical_devices) > 0:\n",
    "    tf.config.experimental.set_memory_growth(physical_devices[0], True)"
   ]
  },
  {
   "cell_type": "markdown",
   "metadata": {},
   "source": [
    "## Helper Function"
   ]
  },
  {
   "cell_type": "code",
   "execution_count": null,
   "metadata": {},
   "outputs": [],
   "source": [
    "###-----------------------------------\n",
    "### Function to plot Loss Curve\n",
    "###-----------------------------------\n",
    "\n",
    "def fn_plot_tf_hist(hist_df : pd.DataFrame):\n",
    "    '''\n",
    "    Args:\n",
    "      hist_df : pandas Dataframe with four columns\n",
    "                For 'x' values, we will use index\n",
    "    '''\n",
    "    fig, axes = plt.subplots(1,2 , figsize = (15,6))\n",
    "\n",
    "    # properties  matplotlib.patch.Patch \n",
    "    props = dict(boxstyle='round', facecolor='aqua', alpha=0.4)\n",
    "    facecolor = 'cyan'\n",
    "    fontsize=12\n",
    "    \n",
    "    # Get columns by index to eliminate any column naming error\n",
    "    y1 = hist_df.columns[0]\n",
    "    y2 = hist_df.columns[1]\n",
    "    y3 = hist_df.columns[2]\n",
    "    y4 = hist_df.columns[3]\n",
    "\n",
    "    # Where was min loss\n",
    "    best = hist_df[hist_df[y3] == hist_df[y3].min()]\n",
    "    \n",
    "    ax = axes[0]\n",
    "\n",
    "    hist_df.plot(y = [y1,y3], ax = ax, colormap=CMAP)\n",
    "\n",
    "\n",
    "    # little beautification\n",
    "    txtFmt = \"Loss: \\n  train: {:6.4f}\\n   test: {:6.4f}\"\n",
    "    txtstr = txtFmt.format(hist_df.iloc[-1][y1],\n",
    "                           hist_df.iloc[-1][y3]) #text to plot\n",
    "    \n",
    "    # place a text box in upper middle in axes coords\n",
    "    ax.text(0.3, 0.95, txtstr, transform=ax.transAxes, fontsize=fontsize,\n",
    "            verticalalignment='top', bbox=props)\n",
    "\n",
    "    # Mark arrow at lowest\n",
    "    ax.annotate(f'Min: {best[y3].to_numpy()[0]:6.4f}', # text to print\n",
    "                xy=(best.index.to_numpy(), best[y3].to_numpy()[0]), # Arrow start\n",
    "                xytext=(best.index.to_numpy()-1, best[y3].to_numpy()[0]), # location of text \n",
    "                fontsize=fontsize, va='bottom', ha='right',bbox=props, # beautification of text\n",
    "                arrowprops=dict(facecolor=facecolor, shrink=0.05)) # arrow\n",
    "\n",
    "    # Draw vertical line at best value\n",
    "    ax.axvline(x = best.index.to_numpy(), color = 'green', linestyle='-.', lw = 3);\n",
    "\n",
    "    ax.set_xlabel(\"Epochs\")\n",
    "    ax.set_ylabel(y1.capitalize())\n",
    "    ax.set_title('Errors')\n",
    "    ax.grid()\n",
    "    \n",
    "    ax.legend(loc = 'upper left') # model legend to upper left\n",
    "\n",
    "    ax = axes[1]\n",
    "\n",
    "    hist_df.plot( y = [y2, y4], ax = ax, colormap=CMAP)\n",
    "    \n",
    "    # little beautification\n",
    "    txtFmt = \"Accuracy: \\n  train: {:6.4f}\\n  test:  {:6.4f}\"\n",
    "    txtstr = txtFmt.format(hist_df.iloc[-1][y2],\n",
    "                           hist_df.iloc[-1][y4]) #text to plot\n",
    "\n",
    "    # place a text box in upper middle in axes\n",
    "    ax.text(0.3, 0.2, txtstr, transform=ax.transAxes, fontsize=fontsize,\n",
    "            verticalalignment='top', bbox=props)\n",
    "\n",
    "    # Mark arrow at lowest\n",
    "    ax.annotate(f'Best: {best[y4].to_numpy()[0]:6.4f}', # text to print\n",
    "                xy=(best.index.to_numpy(), best[y4].to_numpy()[0]), # Arrow start\n",
    "                xytext=(best.index.to_numpy()-1, best[y4].to_numpy()[0]), # location of text \n",
    "                fontsize=fontsize, va='bottom', ha='right',bbox=props, # beautification of text\n",
    "                arrowprops=dict(facecolor=facecolor, shrink=0.05)) # arrow\n",
    "    \n",
    "    \n",
    "    # Draw vertical line at best value\n",
    "    ax.axvline(x = best.index.to_numpy(), color = 'green', linestyle='-.', lw = 3);\n",
    "\n",
    "    ax.set_xlabel(\"Epochs\")\n",
    "    ax.set_ylabel(y2.capitalize())\n",
    "    ax.grid()\n",
    "    ax.legend(loc = 'lower left')\n",
    "    \n",
    "    plt.tight_layout()"
   ]
  },
  {
   "cell_type": "markdown",
   "metadata": {},
   "source": [
    "## Create Some Regression data"
   ]
  },
  {
   "cell_type": "code",
   "execution_count": null,
   "metadata": {},
   "outputs": [],
   "source": [
    "start = -2.1\n",
    "end = 2.1\n",
    "\n",
    "### Training data\n",
    "\n",
    "delta = 0.0005\n",
    "\n",
    "X_train = np.arange(start, end+ delta,delta)\n",
    "y_rnd = np.random.rand(X_train.shape[0]) - 0.5\n",
    "y_true =   2* np.square(X_train) + 2 * np.sin(np.pi*X_train)\n",
    "y_train = y_true + y_rnd* 2\n",
    "\n",
    "### Test data\n",
    "X_test = np.arange(start, end+ delta, delta * 10 )\n",
    "y_rnd = np.random.rand(X_test.shape[0])- 0.5\n",
    "y_true_test =   2* np.square(X_test) + 2 * np.sin(np.pi*X_test)\n",
    "y_test = y_true_test  + y_rnd* 2"
   ]
  },
  {
   "cell_type": "code",
   "execution_count": null,
   "metadata": {},
   "outputs": [],
   "source": [
    "X_train.shape"
   ]
  },
  {
   "cell_type": "code",
   "execution_count": null,
   "metadata": {},
   "outputs": [],
   "source": [
    "8401/64"
   ]
  },
  {
   "cell_type": "code",
   "execution_count": null,
   "metadata": {},
   "outputs": [],
   "source": [
    "num_examples = BATCH_SIZE * 131\n",
    "\n",
    "X_train = X_train[:num_examples]\n",
    "y_train = y_train[:num_examples]\n",
    "y_true = y_true[:num_examples]"
   ]
  },
  {
   "cell_type": "code",
   "execution_count": null,
   "metadata": {},
   "outputs": [],
   "source": [
    "X_train.shape"
   ]
  },
  {
   "cell_type": "code",
   "execution_count": null,
   "metadata": {},
   "outputs": [],
   "source": [
    "X_train.max(), X_test.max()"
   ]
  },
  {
   "cell_type": "code",
   "execution_count": null,
   "metadata": {},
   "outputs": [],
   "source": [
    "start = -2\n",
    "end = 2\n",
    "delta_train = 0.01\n",
    "\n",
    "fig, axes = plt.subplots(1, 2, figsize =(15,5))\n",
    "\n",
    "ax = axes[0]\n",
    "ax.plot(X_train, y_train, 'b*', markersize=2, label = 'Train')\n",
    "ax.plot(X_train,  y_true, c = 'k', linewidth=2, label = 'True')\n",
    "ax.axhline(0, c = 'k')\n",
    "ax.axvline(0, c = 'k')\n",
    "ax.grid()\n",
    "ax.legend()\n",
    "\n",
    "ax = axes[1]\n",
    "ax.plot(X_test, y_test, 'g*', markersize=2, label = 'Test')\n",
    "ax.plot(X_test,  y_true_test, c = 'k', linewidth=2, label = 'True')\n",
    "ax.axhline(0, c = 'k')\n",
    "ax.axvline(0, c = 'k')\n",
    "ax.grid()\n",
    "ax.legend();"
   ]
  },
  {
   "cell_type": "code",
   "execution_count": null,
   "metadata": {},
   "outputs": [],
   "source": [
    "# What shape of Input layer?\n",
    "num_features = 1\n",
    "\n",
    "#initializer = tf.keras.initializers.HeNormal(seed = RANDOM_STATE)\n",
    "\n",
    "# Define Model\n",
    "\n",
    "# Define the input layer\n",
    "input_layer = tf.keras.layers.Input(shape=(1,))  # Assuming input shape is (784,)\n",
    "\n",
    "# Add a hidden layer with 128 neurons and ReLU activation\n",
    "hidden_layer = tf.keras.layers.Dense(128, activation='relu')(input_layer)\n",
    "\n",
    "# Add another hidden layer with 64 neurons and ReLU activation\n",
    "hidden_layer = tf.keras.layers.Dense(64, activation='relu')(hidden_layer)\n",
    "\n",
    "# Add the output layer with 10 neurons (for a classification task) and softmax activation\n",
    "output_layer = tf.keras.layers.Dense(1)(hidden_layer)\n",
    "\n",
    "# Create the model by specifying the input and output layers\n",
    "model = tf.keras.Model(inputs=input_layer, outputs=output_layer)"
   ]
  },
  {
   "cell_type": "code",
   "execution_count": null,
   "metadata": {},
   "outputs": [],
   "source": [
    "# Compile the model with a specific optimizer, loss function, and metrics\n",
    "\n",
    "model.compile(optimizer='adam', \n",
    "              loss='mean_squared_error', \n",
    "              metrics=['mae'])"
   ]
  },
  {
   "cell_type": "code",
   "execution_count": null,
   "metadata": {
    "scrolled": true
   },
   "outputs": [],
   "source": [
    "# fit the model\n",
    "history = model.fit(X_train, y_train, \n",
    "                    batch_size = BATCH_SIZE,\n",
    "                    validation_data=[X_test, y_test],\n",
    "                    epochs=EPOCHS, \n",
    "                    verbose=2)"
   ]
  },
  {
   "cell_type": "code",
   "execution_count": null,
   "metadata": {},
   "outputs": [],
   "source": [
    "hist_df = pd.DataFrame(history.history)\n",
    "\n",
    "fn_plot_tf_hist(hist_df)"
   ]
  },
  {
   "cell_type": "code",
   "execution_count": null,
   "metadata": {},
   "outputs": [],
   "source": [
    "# evaluate the model\n",
    "error = model.evaluate(X_test, y_test, verbose=0)\n",
    "\n",
    "print(f'Loss: {error[0]:.3f}, MAE: {np.sqrt(error[1]):.3f}')"
   ]
  },
  {
   "cell_type": "code",
   "execution_count": null,
   "metadata": {},
   "outputs": [],
   "source": [
    "y_pred = model.predict(X_test)\n",
    "\n",
    "results_df = pd.DataFrame({'pred' : y_pred[:,0], 'test' : y_test} )\n",
    "\n",
    "results_df['y_true'] = y_true_test"
   ]
  },
  {
   "cell_type": "code",
   "execution_count": null,
   "metadata": {},
   "outputs": [],
   "source": [
    "ax = results_df.pred.plot(c = 'r', label = 'pred');\n",
    "results_df.y_true.plot(c = 'k', ax = ax, label = 'true')\n",
    "\n",
    "plt.scatter(results_df.index, results_df.test, c='DarkBlue', marker ='*', label = 'test');\n",
    "ax.set_xlabel(\"epoch\")\n",
    "ax.set_ylabel(\"Price\")\n",
    "ax.grid()\n",
    "plt.legend()\n",
    "plt.show()"
   ]
  },
  {
   "cell_type": "code",
   "execution_count": null,
   "metadata": {},
   "outputs": [],
   "source": [
    "# What shape of Input layer?\n",
    "num_features = 1\n",
    "\n",
    "initializer = tf.keras.initializers.HeNormal(seed = RANDOM_STATE)\n",
    "\n",
    "# define model\n",
    "model = tf.keras.Sequential()\n",
    "\n",
    "model.add( tf.keras.layers.Dense(128, \n",
    "                                 activation='swish', \n",
    "                                 kernel_initializer=initializer, \n",
    "                                 input_shape=(num_features,)))\n",
    "\n",
    "model.add(tf.keras.layers.Dense(64, \n",
    "                                activation='swish', \n",
    "                                kernel_initializer=initializer))\n",
    "\n",
    "model.add(tf.keras.layers.Dense(1))"
   ]
  },
  {
   "cell_type": "code",
   "execution_count": null,
   "metadata": {},
   "outputs": [],
   "source": [
    "# compile the model\n",
    "model.compile(optimizer='adam', loss='mse')"
   ]
  },
  {
   "cell_type": "code",
   "execution_count": null,
   "metadata": {
    "scrolled": true
   },
   "outputs": [],
   "source": [
    "# fit the model\n",
    "history = model.fit(X_train, y_train, \n",
    "          batch_size = BATCH_SIZE,\n",
    "          validation_data=[X_test, y_test],\n",
    "          epochs=EPOCHS, \n",
    "          verbose=2)"
   ]
  },
  {
   "cell_type": "code",
   "execution_count": null,
   "metadata": {},
   "outputs": [],
   "source": [
    "fn_plot_tf_hist(pd.DataFrame(hist_df))"
   ]
  },
  {
   "cell_type": "code",
   "execution_count": null,
   "metadata": {},
   "outputs": [],
   "source": [
    "y_pred = model.predict(X_test)\n",
    "\n",
    "results_df = pd.DataFrame({'pred' : y_pred[:, 0], 'test' : y_test} )\n",
    "\n",
    "results_df['y_true'] = y_true_test"
   ]
  },
  {
   "cell_type": "code",
   "execution_count": null,
   "metadata": {},
   "outputs": [],
   "source": [
    "ax = results_df.pred.plot(c = 'r', label = 'pred');\n",
    "results_df.y_true.plot(c = 'k', ax = ax, label = 'true')\n",
    "\n",
    "plt.scatter(results_df.index, results_df.test, c='DarkBlue', marker ='*', label = 'test');\n",
    "ax.set_xlabel(\"epoch\")\n",
    "ax.set_ylabel(\"Price\")\n",
    "ax.grid()\n",
    "plt.legend()\n",
    "plt.show()"
   ]
  },
  {
   "cell_type": "code",
   "execution_count": null,
   "metadata": {},
   "outputs": [],
   "source": []
  },
  {
   "cell_type": "code",
   "execution_count": null,
   "metadata": {},
   "outputs": [],
   "source": []
  }
 ],
 "metadata": {
  "kernelspec": {
   "display_name": "Python 3 (ipykernel)",
   "language": "python",
   "name": "python3"
  },
  "language_info": {
   "codemirror_mode": {
    "name": "ipython",
    "version": 3
   },
   "file_extension": ".py",
   "mimetype": "text/x-python",
   "name": "python",
   "nbconvert_exporter": "python",
   "pygments_lexer": "ipython3",
   "version": "3.8.10"
  }
 },
 "nbformat": 4,
 "nbformat_minor": 4
}
